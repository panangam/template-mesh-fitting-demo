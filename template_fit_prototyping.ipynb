{
 "cells": [
  {
   "cell_type": "code",
   "execution_count": 27,
   "id": "front-authentication",
   "metadata": {
    "ExecuteTime": {
     "end_time": "2021-06-01T17:52:05.139713Z",
     "start_time": "2021-06-01T17:52:03.468461Z"
    }
   },
   "outputs": [
    {
     "name": "stdout",
     "output_type": "stream",
     "text": [
      "The autoreload extension is already loaded. To reload it, use:\n",
      "  %reload_ext autoreload\n"
     ]
    }
   ],
   "source": [
    "import trimesh\n",
    "import vedo\n",
    "from scipy.optimize import minimize\n",
    "import numpy as np\n",
    "from scipy.spatial import KDTree\n",
    "from tqdm import tqdm\n",
    "import matplotlib.pyplot as plt\n",
    "import json\n",
    "\n",
    "from star.pytorch.star import STAR\n",
    "from star.config import set_model_path\n",
    "import torch\n",
    "\n",
    "%load_ext autoreload\n",
    "%autoreload 2"
   ]
  },
  {
   "cell_type": "code",
   "execution_count": 28,
   "id": "automated-million",
   "metadata": {
    "ExecuteTime": {
     "end_time": "2021-05-25T20:48:01.723354Z",
     "start_time": "2021-05-25T20:48:01.694121Z"
    }
   },
   "outputs": [],
   "source": [
    "def tmesh(mesh, c='grey', alpha=0.5):\n",
    "    \"\"\"convenience function for transparent mesh\"\"\"\n",
    "    return vedo.Mesh(mesh, c=c, alpha=alpha)"
   ]
  },
  {
   "cell_type": "markdown",
   "id": "satellite-branch",
   "metadata": {},
   "source": [
    "## Load model\n",
    "\n",
    "Set to A-pose and visualize joints."
   ]
  },
  {
   "cell_type": "code",
   "execution_count": 29,
   "id": "established-architect",
   "metadata": {
    "ExecuteTime": {
     "end_time": "2021-05-25T21:11:52.993902Z",
     "start_time": "2021-05-25T21:11:52.577273Z"
    }
   },
   "outputs": [
    {
     "data": {
      "application/vnd.jupyter.widget-view+json": {
       "model_id": "4d064e5bbb5540df92f0042eb6f5dfce",
       "version_major": 2,
       "version_minor": 0
      },
      "text/plain": [
       "Plot(antialias=3, axes=['x', 'y', 'z'], axes_helper=1.0, background_color=16777215, camera=[0.0367035736050695…"
      ]
     },
     "metadata": {},
     "output_type": "display_data"
    }
   ],
   "source": [
    "set_model_path('star_1_1')\n",
    "num_betas=20\n",
    "batch_size=1\n",
    "star = STAR(gender='male', num_betas=num_betas)\n",
    "template_mesh = trimesh.Trimesh(star.v_template, star.f, process=False)\n",
    "\n",
    "np.random.seed(42)\n",
    "A_pose_np = np.zeros((batch_size, 72))\n",
    "A_pose_np[:, 3*1+2] = 0.2\n",
    "A_pose_np[:, 3*2+2] = -0.2\n",
    "A_pose_np[:, 3*13+2] = -0.5\n",
    "A_pose_np[:, 3*14+2] = 0.5\n",
    "A_pose_np[:, 3*16+2] = -0.5\n",
    "A_pose_np[:, 3*17+2] = 0.5\n",
    "poses = torch.tensor(A_pose_np, requires_grad=True)\n",
    "betas = torch.tensor(np.zeros((batch_size, num_betas)), requires_grad=True)\n",
    "trans = torch.tensor(np.zeros((batch_size,3)), requires_grad=True)\n",
    "\n",
    "output = star.forward(poses, betas, trans)\n",
    "vertices = output[-1, :, :].detach().numpy()\n",
    "# vertices = np.roll(vertices, 1, axis=1)\n",
    "\n",
    "A_pose_template_mesh = trimesh.Trimesh(vertices, output.f, process=False)\n",
    "\n",
    "vedo.show(vedo.Mesh(A_pose_template_mesh, c='grey', alpha=0.5), vedo.Spheres(output.J_transformed.detach()[0], r=0.03), \n",
    "          *(vedo.Text(i, p+(0, 0.05, 0), s=0.05) for i, p in enumerate(output.J_transformed.detach().numpy()[0])),\n",
    "          axes=1, viewup='y')"
   ]
  },
  {
   "cell_type": "markdown",
   "id": "designed-detroit",
   "metadata": {},
   "source": [
    "## Visualize head, hands vertices\n",
    "\n",
    "These will be excluded in fitting"
   ]
  },
  {
   "cell_type": "code",
   "execution_count": 30,
   "id": "attended-asset",
   "metadata": {
    "ExecuteTime": {
     "end_time": "2021-06-01T19:59:58.422013Z",
     "start_time": "2021-06-01T19:59:58.354368Z"
    }
   },
   "outputs": [
    {
     "data": {
      "application/vnd.jupyter.widget-view+json": {
       "model_id": "48d1febbd12e4461bac1f7ba65fc0653",
       "version_major": 2,
       "version_minor": 0
      },
      "text/plain": [
       "Plot(antialias=3, axes=['x', 'y', 'z'], axes_helper=1.0, background_color=16777215, camera=[0.0263062997804194…"
      ]
     },
     "metadata": {},
     "output_type": "display_data"
    }
   ],
   "source": [
    "part_names = ['head', 'hand_left', 'hand_right', 'toes']\n",
    "colors = ['red', 'blue', 'green', 'yellow']\n",
    "with open('vertex_groups.json') as fin:\n",
    "    vertex_groups = json.load(fin)\n",
    "exc_verts = np.concatenate([vertex_groups[n] for n in part_names])\n",
    "inc_verts = np.ones(template_mesh.vertices.shape[0], dtype=bool)\n",
    "inc_verts[exc_verts] = False\n",
    "\n",
    "vedo.show(\n",
    "    *(vedo.Spheres(template_mesh.vertices[vertex_groups[n]], r=0.01, c=c) for c, n in zip(colors, part_names)),\n",
    "    tmesh(template_mesh)\n",
    ")"
   ]
  },
  {
   "cell_type": "markdown",
   "id": "digital-operations",
   "metadata": {},
   "source": [
    "## Load target mesh"
   ]
  },
  {
   "cell_type": "code",
   "execution_count": 17,
   "id": "external-mother",
   "metadata": {
    "ExecuteTime": {
     "end_time": "2021-05-25T20:48:46.367136Z",
     "start_time": "2021-05-25T20:48:46.294898Z"
    }
   },
   "outputs": [],
   "source": [
    "target_mesh = trimesh.load_mesh('ORPH_20200122_2354_healed.obj')\n",
    "target_mesh.vertices *= 0.001 # convert mm -> meter\n",
    "target_mesh.vertices = np.roll(target_mesh.vertices, -1, axis=1) # convert z-up -> y-up\n",
    "\n",
    "# align target mesh with template mesh using just centroid\n",
    "target_mesh.vertices += -target_mesh.centroid + A_pose_template_mesh.centroid\n",
    "target_mesh.vertices[:, 1] -= .1"
   ]
  },
  {
   "cell_type": "code",
   "execution_count": 18,
   "id": "australian-maple",
   "metadata": {
    "ExecuteTime": {
     "end_time": "2021-05-25T20:48:46.405154Z",
     "start_time": "2021-05-25T20:48:46.369404Z"
    }
   },
   "outputs": [],
   "source": [
    "# get target heels\n",
    "v = target_mesh.vertices\n",
    "mid_x = (v[:, 0].max()+v[:, 0].min())/2\n",
    "left = v[v[:, 0] > mid_x]\n",
    "left_heel = left[(left[:, 1]+left[:, 2]).argmin()]\n",
    "right = v[v[:, 0] < mid_x]\n",
    "right_heel = right[(right[:, 1]+right[:, 2]).argmin()]"
   ]
  },
  {
   "cell_type": "code",
   "execution_count": 19,
   "id": "adequate-brush",
   "metadata": {
    "ExecuteTime": {
     "end_time": "2021-05-25T20:48:46.501069Z",
     "start_time": "2021-05-25T20:48:46.408692Z"
    }
   },
   "outputs": [
    {
     "data": {
      "application/vnd.jupyter.widget-view+json": {
       "model_id": "2039bc5e6029424f807210a4a27fcf81",
       "version_major": 2,
       "version_minor": 0
      },
      "text/plain": [
       "Plot(antialias=3, axes=['x', 'y', 'z'], axes_helper=1.0, background_color=16777215, camera=[0.0149682248991288…"
      ]
     },
     "metadata": {},
     "output_type": "display_data"
    }
   ],
   "source": [
    "vedo.show(vedo.Points(v), vedo.Sphere(left_heel, r=0.01), vedo.Sphere(right_heel, r=0.01))"
   ]
  },
  {
   "cell_type": "code",
   "execution_count": 20,
   "id": "executive-anaheim",
   "metadata": {
    "ExecuteTime": {
     "end_time": "2021-05-25T20:48:47.448157Z",
     "start_time": "2021-05-25T20:48:46.503856Z"
    }
   },
   "outputs": [
    {
     "data": {
      "application/vnd.jupyter.widget-view+json": {
       "model_id": "08c84eee99964f459725ef9fb7bb9018",
       "version_major": 2,
       "version_minor": 0
      },
      "text/plain": [
       "Plot(antialias=3, axes=['x', 'y', 'z'], axes_helper=1.0, background_color=16777215, camera=[0.0236406514563162…"
      ]
     },
     "metadata": {},
     "output_type": "display_data"
    }
   ],
   "source": [
    "template_verts = A_pose_template_mesh.vertices[inc_verts]\n",
    "dists, idxs = target_mesh.kdtree.query(template_verts)\n",
    "arrows = vedo.Arrows(template_verts, target_mesh.vertices[idxs])\n",
    "vedo.show(\n",
    "    tmesh(A_pose_template_mesh),\n",
    "    tmesh(target_mesh), \n",
    "    arrows\n",
    ")"
   ]
  },
  {
   "cell_type": "code",
   "execution_count": 21,
   "id": "sporting-clerk",
   "metadata": {
    "ExecuteTime": {
     "end_time": "2021-05-25T20:48:47.509013Z",
     "start_time": "2021-05-25T20:48:47.454779Z"
    }
   },
   "outputs": [],
   "source": [
    "def calc_loss(forwarded_v, exc_verts=[], min_comp_cosine=0, landmarks=[], E_weights=(1, 1)):\n",
    "    E_data = data_loss(forwarded_v, target_mesh, exc_verts, min_comp_cosine)\n",
    "    E_lm = landmark_loss(forwarded_v, landmarks)\n",
    "    \n",
    "    E_total = E_weights[0]*E_data + E_weights[1]*E_lm\n",
    "    \n",
    "    return E_total\n",
    "\n",
    "def data_loss(deformed_v : torch.Tensor, target_mesh, exc_verts, min_comp_cosine):\n",
    "    deformed_mesh = trimesh.Trimesh(deformed_v.detach().numpy(), star.f, process=False)\n",
    "    dists, idxs = target_mesh.kdtree.query(deformed_mesh.vertices)\n",
    "    deformed_normals = deformed_mesh.vertex_normals\n",
    "    target_normals = target_mesh.vertex_normals\n",
    "    incompatible = (target_normals[idxs]*deformed_normals).sum(axis=1) < min_comp_cosine\n",
    "    weights = np.ones(template_mesh.vertices.shape[0])\n",
    "    weights[incompatible] = 0\n",
    "    weights[exc_verts] = 0\n",
    "\n",
    "    dist_tensor = (((deformed_v-torch.tensor(target_mesh.vertices[idxs]))*torch.tensor(weights[:, None]))**2).sum() / weights.sum()\n",
    "    return dist_tensor\n",
    "\n",
    "def landmark_loss(deformed_v : torch.Tensor, landmarks):\n",
    "    loss = torch.tensor(0.)\n",
    "    for template_idx, target in landmarks:\n",
    "        loss += ((deformed_v[template_idx] - torch.tensor(target))**2).sum()\n",
    "    loss /= len(landmarks)\n",
    "    return loss"
   ]
  },
  {
   "cell_type": "code",
   "execution_count": 22,
   "id": "recorded-findings",
   "metadata": {
    "ExecuteTime": {
     "end_time": "2021-05-25T20:48:47.650214Z",
     "start_time": "2021-05-25T20:48:47.511626Z"
    }
   },
   "outputs": [
    {
     "data": {
      "application/vnd.jupyter.widget-view+json": {
       "model_id": "63f1581e1470471fa8b7f95269283f40",
       "version_major": 2,
       "version_minor": 0
      },
      "text/plain": [
       "Plot(antialias=3, axes=['x', 'y', 'z'], axes_helper=1.0, background_color=16777215, camera=[0.0239303127896421…"
      ]
     },
     "metadata": {},
     "output_type": "display_data"
    }
   ],
   "source": [
    "# get target heels\n",
    "v = A_pose_template_mesh.vertices\n",
    "mid_x = (v[:, 0].max()+v[:, 0].min())/2\n",
    "left_idx, = (v[:, 0] > mid_x).nonzero()\n",
    "template_left_heel_idx = left_idx[(v[left_idx, 1]+v[left_idx, 2]).argmin()]\n",
    "right_idx, = (v[:, 0] < mid_x).nonzero()\n",
    "template_right_heel_idx = right_idx[(v[right_idx, 1]+v[right_idx, 2]).argmin()]\n",
    "\n",
    "vedo.show(vedo.Points(v), vedo.Sphere(v[template_left_heel_idx], r=0.05), vedo.Sphere(v[template_right_heel_idx], r=0.05))\n"
   ]
  },
  {
   "cell_type": "code",
   "execution_count": 23,
   "id": "expressed-peace",
   "metadata": {
    "ExecuteTime": {
     "end_time": "2021-05-25T20:48:47.711378Z",
     "start_time": "2021-05-25T20:48:47.655396Z"
    }
   },
   "outputs": [],
   "source": [
    "landmarks = [(template_left_heel_idx, left_heel), (template_right_heel_idx, right_heel)]\n",
    "def simple_loss(poses, betas, trans, min_comp_cosine=0, E_weights=(1, 1)):\n",
    "    forwarded_v = star.forward(poses, betas, trans)[0]\n",
    "    return calc_loss(forwarded_v, exc_verts, min_comp_cosine, landmarks, E_weights)"
   ]
  },
  {
   "cell_type": "markdown",
   "id": "twelve-hungarian",
   "metadata": {},
   "source": [
    "## Fit using naive gradient descent"
   ]
  },
  {
   "cell_type": "code",
   "execution_count": 24,
   "id": "partial-consistency",
   "metadata": {
    "ExecuteTime": {
     "end_time": "2021-05-25T20:48:47.760351Z",
     "start_time": "2021-05-25T20:48:47.718156Z"
    },
    "scrolled": true
   },
   "outputs": [],
   "source": [
    "# poses = torch.tensor(A_pose_np, dtype=torch.float, requires_grad=True)\n",
    "# betas = torch.tensor(np.random.normal(0, 0, (batch_size, num_betas)), dtype=torch.float, requires_grad=True)\n",
    "# trans = torch.tensor(np.ones((batch_size,3))*0, dtype=torch.float, requires_grad=True)\n",
    "\n",
    "# alpha=1e-4\n",
    "# iters = 500\n",
    "# errors = []\n",
    "\n",
    "# # phase 1: quickly fit everything\n",
    "# for i in tqdm(range(200)):\n",
    "#     dist_tensor = simple_loss(poses, betas, trans, min_comp_cosine=0)\n",
    "#     dist_tensor.backward()\n",
    "# #     poses_grad = poses.grad.detach().numpy()\n",
    "# #     poses_grad[0, 0] = 0\n",
    "#     with torch.no_grad():\n",
    "#         poses.grad[0, 0] = 0\n",
    "#         poses -= poses.grad*alpha*20\n",
    "#         betas -= betas.grad*alpha*2000\n",
    "#         trans -= trans.grad*alpha\n",
    "#     poses.grad = None\n",
    "#     betas.grad = None\n",
    "#     trans.grad = None\n",
    "#     errors.append(dist_tensor.detach().numpy())\n",
    "# # phase 2: fit only shape parameters (betas)\n",
    "# for i in tqdm(range(500)):\n",
    "#     dist_tensor = simple_loss(poses, betas, trans, min_comp_cosine=0)\n",
    "#     dist_tensor.backward()\n",
    "# #     poses_grad = poses.grad.detach().numpy()\n",
    "# #     poses_grad[0, 0] = 0\n",
    "#     with torch.no_grad():\n",
    "# #         poses.grad[0, 0] = 0\n",
    "# #         poses -= poses.grad*alpha\n",
    "#         betas -= betas.grad*alpha*1000\n",
    "# #         trans -= trans.grad*alpha\n",
    "#     poses.grad = None\n",
    "#     betas.grad = None\n",
    "#     trans.grad = None\n",
    "#     errors.append(dist_tensor.detach().numpy())\n",
    "# # phase 3: fit everything once more\n",
    "# for i in tqdm(range(1000)):\n",
    "#     dist_tensor = simple_loss(poses, betas, trans, min_comp_cosine=0.866) # limit to <30 degrees between normals\n",
    "#     dist_tensor.backward()\n",
    "# #     poses_grad = poses.grad.detach().numpy()\n",
    "# #     poses_grad[0, 0] = 0\n",
    "#     with torch.no_grad():\n",
    "#         poses.grad[0, 0] = 0\n",
    "#         poses -= poses.grad*alpha*10\n",
    "#         betas -= betas.grad*alpha*1000\n",
    "#         trans -= trans.grad*alpha\n",
    "#     poses.grad = None\n",
    "#     betas.grad = None\n",
    "#     trans.grad = None\n",
    "#     errors.append(dist_tensor.detach().numpy())\n",
    "# new_v = star.forward(poses, betas, trans)[0]\n",
    "# deformed_mesh = trimesh.Trimesh(new_v.detach().numpy(), star.f, process=False)\n",
    "# vedo.show(\n",
    "# #     tmesh(A_pose_template_mesh, c='magenta'),\n",
    "#     tmesh(target_mesh, c='green'), \n",
    "#     tmesh(deformed_mesh, c='yellow')\n",
    "# )"
   ]
  },
  {
   "cell_type": "code",
   "execution_count": 25,
   "id": "detected-liberal",
   "metadata": {
    "ExecuteTime": {
     "end_time": "2021-05-25T20:48:47.792982Z",
     "start_time": "2021-05-25T20:48:47.764009Z"
    }
   },
   "outputs": [],
   "source": [
    "# plt.plot(errors)"
   ]
  },
  {
   "cell_type": "markdown",
   "id": "hawaiian-filter",
   "metadata": {},
   "source": [
    "## Fit using PyTorch's LBFGS\n",
    "\n",
    "Determined to be the best method."
   ]
  },
  {
   "cell_type": "code",
   "execution_count": 26,
   "id": "going-reception",
   "metadata": {
    "ExecuteTime": {
     "end_time": "2021-05-25T20:49:06.391663Z",
     "start_time": "2021-05-25T20:48:47.794615Z"
    }
   },
   "outputs": [
    {
     "name": "stderr",
     "output_type": "stream",
     "text": [
      "  0%|                                                                                           | 0/20 [00:00<?, ?it/s]\n"
     ]
    },
    {
     "ename": "RuntimeError",
     "evalue": "expected scalar type Double but found Float",
     "output_type": "error",
     "traceback": [
      "\u001b[1;31m---------------------------------------------------------------------------\u001b[0m",
      "\u001b[1;31mRuntimeError\u001b[0m                              Traceback (most recent call last)",
      "\u001b[1;32m~\\AppData\\Local\\Temp/ipykernel_17100/2670999506.py\u001b[0m in \u001b[0;36m<module>\u001b[1;34m\u001b[0m\n\u001b[0;32m     24\u001b[0m     \u001b[1;32mreturn\u001b[0m \u001b[0mloss\u001b[0m\u001b[1;33m\u001b[0m\u001b[1;33m\u001b[0m\u001b[0m\n\u001b[0;32m     25\u001b[0m \u001b[1;32mfor\u001b[0m \u001b[0mi\u001b[0m \u001b[1;32min\u001b[0m \u001b[0mtqdm\u001b[0m\u001b[1;33m(\u001b[0m\u001b[0mrange\u001b[0m\u001b[1;33m(\u001b[0m\u001b[1;36m20\u001b[0m\u001b[1;33m)\u001b[0m\u001b[1;33m)\u001b[0m\u001b[1;33m:\u001b[0m\u001b[1;33m\u001b[0m\u001b[1;33m\u001b[0m\u001b[0m\n\u001b[1;32m---> 26\u001b[1;33m     \u001b[0mloss\u001b[0m \u001b[1;33m=\u001b[0m \u001b[0moptimizer\u001b[0m\u001b[1;33m.\u001b[0m\u001b[0mstep\u001b[0m\u001b[1;33m(\u001b[0m\u001b[0mclosure\u001b[0m\u001b[1;33m)\u001b[0m\u001b[1;33m\u001b[0m\u001b[1;33m\u001b[0m\u001b[0m\n\u001b[0m\u001b[0;32m     27\u001b[0m     \u001b[0merrors\u001b[0m\u001b[1;33m.\u001b[0m\u001b[0mappend\u001b[0m\u001b[1;33m(\u001b[0m\u001b[0mloss\u001b[0m\u001b[1;33m.\u001b[0m\u001b[0mdetach\u001b[0m\u001b[1;33m(\u001b[0m\u001b[1;33m)\u001b[0m\u001b[1;33m.\u001b[0m\u001b[0mnumpy\u001b[0m\u001b[1;33m(\u001b[0m\u001b[1;33m)\u001b[0m\u001b[1;33m)\u001b[0m\u001b[1;33m\u001b[0m\u001b[1;33m\u001b[0m\u001b[0m\n\u001b[0;32m     28\u001b[0m \u001b[1;32mdef\u001b[0m \u001b[0mclosure2\u001b[0m\u001b[1;33m(\u001b[0m\u001b[1;33m)\u001b[0m\u001b[1;33m:\u001b[0m\u001b[1;33m\u001b[0m\u001b[1;33m\u001b[0m\u001b[0m\n",
      "\u001b[1;32m~\\miniconda3\\envs\\tesla_demo\\lib\\site-packages\\torch\\autograd\\grad_mode.py\u001b[0m in \u001b[0;36mdecorate_context\u001b[1;34m(*args, **kwargs)\u001b[0m\n\u001b[0;32m     13\u001b[0m         \u001b[1;32mdef\u001b[0m \u001b[0mdecorate_context\u001b[0m\u001b[1;33m(\u001b[0m\u001b[1;33m*\u001b[0m\u001b[0margs\u001b[0m\u001b[1;33m,\u001b[0m \u001b[1;33m**\u001b[0m\u001b[0mkwargs\u001b[0m\u001b[1;33m)\u001b[0m\u001b[1;33m:\u001b[0m\u001b[1;33m\u001b[0m\u001b[1;33m\u001b[0m\u001b[0m\n\u001b[0;32m     14\u001b[0m             \u001b[1;32mwith\u001b[0m \u001b[0mself\u001b[0m\u001b[1;33m:\u001b[0m\u001b[1;33m\u001b[0m\u001b[1;33m\u001b[0m\u001b[0m\n\u001b[1;32m---> 15\u001b[1;33m                 \u001b[1;32mreturn\u001b[0m \u001b[0mfunc\u001b[0m\u001b[1;33m(\u001b[0m\u001b[1;33m*\u001b[0m\u001b[0margs\u001b[0m\u001b[1;33m,\u001b[0m \u001b[1;33m**\u001b[0m\u001b[0mkwargs\u001b[0m\u001b[1;33m)\u001b[0m\u001b[1;33m\u001b[0m\u001b[1;33m\u001b[0m\u001b[0m\n\u001b[0m\u001b[0;32m     16\u001b[0m         \u001b[1;32mreturn\u001b[0m \u001b[0mdecorate_context\u001b[0m\u001b[1;33m\u001b[0m\u001b[1;33m\u001b[0m\u001b[0m\n\u001b[0;32m     17\u001b[0m \u001b[1;33m\u001b[0m\u001b[0m\n",
      "\u001b[1;32m~\\miniconda3\\envs\\tesla_demo\\lib\\site-packages\\torch\\optim\\lbfgs.py\u001b[0m in \u001b[0;36mstep\u001b[1;34m(self, closure)\u001b[0m\n\u001b[0;32m    309\u001b[0m \u001b[1;33m\u001b[0m\u001b[0m\n\u001b[0;32m    310\u001b[0m         \u001b[1;31m# evaluate initial f(x) and df/dx\u001b[0m\u001b[1;33m\u001b[0m\u001b[1;33m\u001b[0m\u001b[1;33m\u001b[0m\u001b[0m\n\u001b[1;32m--> 311\u001b[1;33m         \u001b[0morig_loss\u001b[0m \u001b[1;33m=\u001b[0m \u001b[0mclosure\u001b[0m\u001b[1;33m(\u001b[0m\u001b[1;33m)\u001b[0m\u001b[1;33m\u001b[0m\u001b[1;33m\u001b[0m\u001b[0m\n\u001b[0m\u001b[0;32m    312\u001b[0m         \u001b[0mloss\u001b[0m \u001b[1;33m=\u001b[0m \u001b[0mfloat\u001b[0m\u001b[1;33m(\u001b[0m\u001b[0morig_loss\u001b[0m\u001b[1;33m)\u001b[0m\u001b[1;33m\u001b[0m\u001b[1;33m\u001b[0m\u001b[0m\n\u001b[0;32m    313\u001b[0m         \u001b[0mcurrent_evals\u001b[0m \u001b[1;33m=\u001b[0m \u001b[1;36m1\u001b[0m\u001b[1;33m\u001b[0m\u001b[1;33m\u001b[0m\u001b[0m\n",
      "\u001b[1;32m~\\miniconda3\\envs\\tesla_demo\\lib\\site-packages\\torch\\autograd\\grad_mode.py\u001b[0m in \u001b[0;36mdecorate_context\u001b[1;34m(*args, **kwargs)\u001b[0m\n\u001b[0;32m     13\u001b[0m         \u001b[1;32mdef\u001b[0m \u001b[0mdecorate_context\u001b[0m\u001b[1;33m(\u001b[0m\u001b[1;33m*\u001b[0m\u001b[0margs\u001b[0m\u001b[1;33m,\u001b[0m \u001b[1;33m**\u001b[0m\u001b[0mkwargs\u001b[0m\u001b[1;33m)\u001b[0m\u001b[1;33m:\u001b[0m\u001b[1;33m\u001b[0m\u001b[1;33m\u001b[0m\u001b[0m\n\u001b[0;32m     14\u001b[0m             \u001b[1;32mwith\u001b[0m \u001b[0mself\u001b[0m\u001b[1;33m:\u001b[0m\u001b[1;33m\u001b[0m\u001b[1;33m\u001b[0m\u001b[0m\n\u001b[1;32m---> 15\u001b[1;33m                 \u001b[1;32mreturn\u001b[0m \u001b[0mfunc\u001b[0m\u001b[1;33m(\u001b[0m\u001b[1;33m*\u001b[0m\u001b[0margs\u001b[0m\u001b[1;33m,\u001b[0m \u001b[1;33m**\u001b[0m\u001b[0mkwargs\u001b[0m\u001b[1;33m)\u001b[0m\u001b[1;33m\u001b[0m\u001b[1;33m\u001b[0m\u001b[0m\n\u001b[0m\u001b[0;32m     16\u001b[0m         \u001b[1;32mreturn\u001b[0m \u001b[0mdecorate_context\u001b[0m\u001b[1;33m\u001b[0m\u001b[1;33m\u001b[0m\u001b[0m\n\u001b[0;32m     17\u001b[0m \u001b[1;33m\u001b[0m\u001b[0m\n",
      "\u001b[1;32m~\\AppData\\Local\\Temp/ipykernel_17100/2670999506.py\u001b[0m in \u001b[0;36mclosure\u001b[1;34m()\u001b[0m\n\u001b[0;32m     19\u001b[0m \u001b[1;32mdef\u001b[0m \u001b[0mclosure\u001b[0m\u001b[1;33m(\u001b[0m\u001b[1;33m)\u001b[0m\u001b[1;33m:\u001b[0m\u001b[1;33m\u001b[0m\u001b[1;33m\u001b[0m\u001b[0m\n\u001b[0;32m     20\u001b[0m     \u001b[0moptimizer\u001b[0m\u001b[1;33m.\u001b[0m\u001b[0mzero_grad\u001b[0m\u001b[1;33m(\u001b[0m\u001b[1;33m)\u001b[0m\u001b[1;33m\u001b[0m\u001b[1;33m\u001b[0m\u001b[0m\n\u001b[1;32m---> 21\u001b[1;33m     \u001b[0mloss\u001b[0m \u001b[1;33m=\u001b[0m \u001b[0msimple_loss\u001b[0m\u001b[1;33m(\u001b[0m\u001b[0mposes\u001b[0m\u001b[1;33m,\u001b[0m \u001b[0mbetas\u001b[0m\u001b[1;33m,\u001b[0m \u001b[0mtrans\u001b[0m\u001b[1;33m,\u001b[0m \u001b[0mmin_comp_cosine\u001b[0m\u001b[1;33m=\u001b[0m\u001b[1;36m0\u001b[0m\u001b[1;33m,\u001b[0m \u001b[0mE_weights\u001b[0m\u001b[1;33m=\u001b[0m\u001b[1;33m(\u001b[0m\u001b[1;36m10\u001b[0m\u001b[1;33m,\u001b[0m \u001b[1;36m1\u001b[0m\u001b[1;33m)\u001b[0m\u001b[1;33m)\u001b[0m\u001b[1;33m\u001b[0m\u001b[1;33m\u001b[0m\u001b[0m\n\u001b[0m\u001b[0;32m     22\u001b[0m     \u001b[0mloss\u001b[0m\u001b[1;33m.\u001b[0m\u001b[0mbackward\u001b[0m\u001b[1;33m(\u001b[0m\u001b[1;33m)\u001b[0m\u001b[1;33m\u001b[0m\u001b[1;33m\u001b[0m\u001b[0m\n\u001b[0;32m     23\u001b[0m     \u001b[0mconstrain_poses\u001b[0m\u001b[1;33m(\u001b[0m\u001b[0mposes\u001b[0m\u001b[1;33m)\u001b[0m\u001b[1;33m\u001b[0m\u001b[1;33m\u001b[0m\u001b[0m\n",
      "\u001b[1;32m~\\AppData\\Local\\Temp/ipykernel_17100/538901570.py\u001b[0m in \u001b[0;36msimple_loss\u001b[1;34m(poses, betas, trans, min_comp_cosine, E_weights)\u001b[0m\n\u001b[0;32m      1\u001b[0m \u001b[0mlandmarks\u001b[0m \u001b[1;33m=\u001b[0m \u001b[1;33m[\u001b[0m\u001b[1;33m(\u001b[0m\u001b[0mtemplate_left_heel_idx\u001b[0m\u001b[1;33m,\u001b[0m \u001b[0mleft_heel\u001b[0m\u001b[1;33m)\u001b[0m\u001b[1;33m,\u001b[0m \u001b[1;33m(\u001b[0m\u001b[0mtemplate_right_heel_idx\u001b[0m\u001b[1;33m,\u001b[0m \u001b[0mright_heel\u001b[0m\u001b[1;33m)\u001b[0m\u001b[1;33m]\u001b[0m\u001b[1;33m\u001b[0m\u001b[1;33m\u001b[0m\u001b[0m\n\u001b[0;32m      2\u001b[0m \u001b[1;32mdef\u001b[0m \u001b[0msimple_loss\u001b[0m\u001b[1;33m(\u001b[0m\u001b[0mposes\u001b[0m\u001b[1;33m,\u001b[0m \u001b[0mbetas\u001b[0m\u001b[1;33m,\u001b[0m \u001b[0mtrans\u001b[0m\u001b[1;33m,\u001b[0m \u001b[0mmin_comp_cosine\u001b[0m\u001b[1;33m=\u001b[0m\u001b[1;36m0\u001b[0m\u001b[1;33m,\u001b[0m \u001b[0mE_weights\u001b[0m\u001b[1;33m=\u001b[0m\u001b[1;33m(\u001b[0m\u001b[1;36m1\u001b[0m\u001b[1;33m,\u001b[0m \u001b[1;36m1\u001b[0m\u001b[1;33m)\u001b[0m\u001b[1;33m)\u001b[0m\u001b[1;33m:\u001b[0m\u001b[1;33m\u001b[0m\u001b[1;33m\u001b[0m\u001b[0m\n\u001b[1;32m----> 3\u001b[1;33m     \u001b[0mforwarded_v\u001b[0m \u001b[1;33m=\u001b[0m \u001b[0mstar\u001b[0m\u001b[1;33m.\u001b[0m\u001b[0mforward\u001b[0m\u001b[1;33m(\u001b[0m\u001b[0mposes\u001b[0m\u001b[1;33m,\u001b[0m \u001b[0mbetas\u001b[0m\u001b[1;33m,\u001b[0m \u001b[0mtrans\u001b[0m\u001b[1;33m)\u001b[0m\u001b[1;33m[\u001b[0m\u001b[1;36m0\u001b[0m\u001b[1;33m]\u001b[0m\u001b[1;33m\u001b[0m\u001b[1;33m\u001b[0m\u001b[0m\n\u001b[0m\u001b[0;32m      4\u001b[0m     \u001b[1;32mreturn\u001b[0m \u001b[0mcalc_loss\u001b[0m\u001b[1;33m(\u001b[0m\u001b[0mforwarded_v\u001b[0m\u001b[1;33m,\u001b[0m \u001b[0mexc_verts\u001b[0m\u001b[1;33m,\u001b[0m \u001b[0mmin_comp_cosine\u001b[0m\u001b[1;33m,\u001b[0m \u001b[0mlandmarks\u001b[0m\u001b[1;33m,\u001b[0m \u001b[0mE_weights\u001b[0m\u001b[1;33m)\u001b[0m\u001b[1;33m\u001b[0m\u001b[1;33m\u001b[0m\u001b[0m\n",
      "\u001b[1;32mc:\\users\\panangam\\code\\tesla_demo\\star\\star\\pytorch\\star.py\u001b[0m in \u001b[0;36mforward\u001b[1;34m(self, pose, betas, trans)\u001b[0m\n\u001b[0;32m    107\u001b[0m         \u001b[0mshapedirs\u001b[0m  \u001b[1;33m=\u001b[0m \u001b[0mself\u001b[0m\u001b[1;33m.\u001b[0m\u001b[0mshapedirs\u001b[0m\u001b[1;33m.\u001b[0m\u001b[0mview\u001b[0m\u001b[1;33m(\u001b[0m\u001b[1;33m-\u001b[0m\u001b[1;36m1\u001b[0m\u001b[1;33m,\u001b[0m \u001b[0mself\u001b[0m\u001b[1;33m.\u001b[0m\u001b[0mnum_betas\u001b[0m\u001b[1;33m)\u001b[0m\u001b[1;33m[\u001b[0m\u001b[1;32mNone\u001b[0m\u001b[1;33m,\u001b[0m \u001b[1;33m:\u001b[0m\u001b[1;33m]\u001b[0m\u001b[1;33m.\u001b[0m\u001b[0mexpand\u001b[0m\u001b[1;33m(\u001b[0m\u001b[0mbatch_size\u001b[0m\u001b[1;33m,\u001b[0m \u001b[1;33m-\u001b[0m\u001b[1;36m1\u001b[0m\u001b[1;33m,\u001b[0m \u001b[1;33m-\u001b[0m\u001b[1;36m1\u001b[0m\u001b[1;33m)\u001b[0m\u001b[1;33m\u001b[0m\u001b[1;33m\u001b[0m\u001b[0m\n\u001b[0;32m    108\u001b[0m         \u001b[0mbeta\u001b[0m \u001b[1;33m=\u001b[0m \u001b[0mbetas\u001b[0m\u001b[1;33m[\u001b[0m\u001b[1;33m:\u001b[0m\u001b[1;33m,\u001b[0m \u001b[1;33m:\u001b[0m\u001b[1;33m,\u001b[0m \u001b[1;32mNone\u001b[0m\u001b[1;33m]\u001b[0m\u001b[1;33m\u001b[0m\u001b[1;33m\u001b[0m\u001b[0m\n\u001b[1;32m--> 109\u001b[1;33m         \u001b[0mv_shaped\u001b[0m \u001b[1;33m=\u001b[0m \u001b[0mtorch\u001b[0m\u001b[1;33m.\u001b[0m\u001b[0mmatmul\u001b[0m\u001b[1;33m(\u001b[0m\u001b[0mshapedirs\u001b[0m\u001b[1;33m,\u001b[0m \u001b[0mbeta\u001b[0m\u001b[1;33m)\u001b[0m\u001b[1;33m.\u001b[0m\u001b[0mview\u001b[0m\u001b[1;33m(\u001b[0m\u001b[1;33m-\u001b[0m\u001b[1;36m1\u001b[0m\u001b[1;33m,\u001b[0m \u001b[1;36m6890\u001b[0m\u001b[1;33m,\u001b[0m \u001b[1;36m3\u001b[0m\u001b[1;33m)\u001b[0m \u001b[1;33m+\u001b[0m \u001b[0mv_template\u001b[0m\u001b[1;33m\u001b[0m\u001b[1;33m\u001b[0m\u001b[0m\n\u001b[0m\u001b[0;32m    110\u001b[0m         \u001b[0mJ\u001b[0m \u001b[1;33m=\u001b[0m \u001b[0mtorch\u001b[0m\u001b[1;33m.\u001b[0m\u001b[0meinsum\u001b[0m\u001b[1;33m(\u001b[0m\u001b[1;34m'bik,ji->bjk'\u001b[0m\u001b[1;33m,\u001b[0m \u001b[1;33m[\u001b[0m\u001b[0mv_shaped\u001b[0m\u001b[1;33m,\u001b[0m \u001b[0mself\u001b[0m\u001b[1;33m.\u001b[0m\u001b[0mJ_regressor\u001b[0m\u001b[1;33m]\u001b[0m\u001b[1;33m)\u001b[0m\u001b[1;33m\u001b[0m\u001b[1;33m\u001b[0m\u001b[0m\n\u001b[0;32m    111\u001b[0m \u001b[1;33m\u001b[0m\u001b[0m\n",
      "\u001b[1;31mRuntimeError\u001b[0m: expected scalar type Double but found Float"
     ]
    }
   ],
   "source": [
    "poses = torch.tensor(A_pose_np, dtype=torch.float, requires_grad=True)\n",
    "betas = torch.tensor(np.random.normal(0, 0, (batch_size, num_betas)), dtype=torch.float, requires_grad=True)\n",
    "trans = torch.tensor(np.ones((batch_size,3))*0, dtype=torch.float, requires_grad=True)\n",
    "\n",
    "errors = []\n",
    "\n",
    "from torch.optim import LBFGS\n",
    "\n",
    "optimizer = LBFGS([poses, betas, trans], lr=1)\n",
    "\n",
    "def constrain_poses(poses):\n",
    "    with torch.no_grad():\n",
    "        poses.grad[0, 2] = 0\n",
    "        poses.grad[0, 3*12+1] = 0\n",
    "        poses.grad[0, 3*12+2] = 0\n",
    "        poses.grad[0, 3*15+1] = 0\n",
    "        poses.grad[0, 3*15+2] = 0\n",
    "        \n",
    "def closure():\n",
    "    optimizer.zero_grad()\n",
    "    loss = simple_loss(poses, betas, trans, min_comp_cosine=0, E_weights=(10, 1))\n",
    "    loss.backward()\n",
    "    constrain_poses(poses)\n",
    "    return loss\n",
    "for i in tqdm(range(20)):\n",
    "    loss = optimizer.step(closure)\n",
    "    errors.append(loss.detach().numpy())\n",
    "def closure2():\n",
    "    optimizer.zero_grad()\n",
    "    loss = simple_loss(poses, betas, trans, min_comp_cosine=0, E_weights=(10, 0))\n",
    "    loss.backward()\n",
    "    constrain_poses(poses)\n",
    "    return loss\n",
    "# for i in tqdm(range(20)):\n",
    "#     loss = optimizer.step(closure2)\n",
    "#     errors.append(loss.detach().numpy())\n",
    "    \n",
    "new_v = star.forward(poses, betas, trans)[0]\n",
    "deformed_mesh = trimesh.Trimesh(new_v.detach().numpy(), star.f, process=False)\n",
    "vedo.show(\n",
    "#     tmesh(A_pose_template_mesh, c='magenta'),\n",
    "    tmesh(target_mesh, c='green'), \n",
    "    tmesh(deformed_mesh, c='yellow')\n",
    ")"
   ]
  },
  {
   "cell_type": "code",
   "execution_count": null,
   "id": "configured-biology",
   "metadata": {
    "ExecuteTime": {
     "end_time": "2021-05-25T20:56:13.656809Z",
     "start_time": "2021-05-25T20:56:13.486453Z"
    }
   },
   "outputs": [],
   "source": [
    "plt.plot(errors[1:]) # skip first error as LBFGS works too well first iteration"
   ]
  },
  {
   "cell_type": "markdown",
   "id": "appointed-lawyer",
   "metadata": {},
   "source": [
    "## Fit using Stochastic Gradient Descent (SGD) module\n",
    "\n",
    "I guess in this case, it's not really stochastic but just doing normal gradient descent? Just more efficiently using Pytorch's implementation?"
   ]
  },
  {
   "cell_type": "code",
   "execution_count": 17,
   "id": "returning-clinton",
   "metadata": {
    "ExecuteTime": {
     "end_time": "2021-05-25T20:49:06.675282Z",
     "start_time": "2021-05-25T20:49:06.641181Z"
    }
   },
   "outputs": [],
   "source": [
    "# poses = torch.tensor(A_pose_np, dtype=torch.float, requires_grad=True)\n",
    "# betas = torch.tensor(np.random.normal(0, 0, (batch_size, num_betas)), dtype=torch.float, requires_grad=True)\n",
    "# trans = torch.tensor(np.ones((batch_size,3))*0, dtype=torch.float, requires_grad=True)\n",
    "\n",
    "# errors = []\n",
    "\n",
    "# from torch.optim import SGD\n",
    "\n",
    "# optimizer = SGD([dict(params=poses, lr=1e-3), dict(params=betas, lr=1), dict(params=trans)], lr=1e-4)\n",
    "# def closure():\n",
    "#     optimizer.zero_grad()\n",
    "#     loss = simple_loss(poses, betas, trans, 0, (2, 1))\n",
    "#     loss.backward()\n",
    "# #     with torch.no_grad():\n",
    "# #         poses.grad[0, 0] = 0 # restrict global rotation to 0\n",
    "#     return loss\n",
    "# for i in tqdm(range(20)):\n",
    "#     loss = optimizer.step(closure)\n",
    "#     errors.append(loss.detach().numpy())\n",
    "# for pg in optimizer.param_groups:\n",
    "#     pg['lr'] /= 5\n",
    "# for i in tqdm(range(1000)):\n",
    "#     loss = optimizer.step(closure)\n",
    "#     errors.append(loss.detach().numpy())\n",
    "    \n",
    "# new_v = star.forward(poses, betas, trans)[0]\n",
    "# deformed_mesh = trimesh.Trimesh(new_v.detach().numpy(), star.f, process=False)\n",
    "# vedo.show(\n",
    "# #     tmesh(A_pose_template_mesh, c='magenta'),\n",
    "#     tmesh(target_mesh, c='green'), \n",
    "#     tmesh(deformed_mesh, c='yellow')\n",
    "# )"
   ]
  },
  {
   "cell_type": "code",
   "execution_count": 18,
   "id": "brazilian-monaco",
   "metadata": {
    "ExecuteTime": {
     "end_time": "2021-05-25T20:49:06.705136Z",
     "start_time": "2021-05-25T20:49:06.677697Z"
    }
   },
   "outputs": [],
   "source": [
    "# plt.plot(errors[20:])"
   ]
  },
  {
   "cell_type": "markdown",
   "id": "ethical-hearing",
   "metadata": {},
   "source": [
    "## Visualize nearest neighbors loss"
   ]
  },
  {
   "cell_type": "code",
   "execution_count": 19,
   "id": "married-statistics",
   "metadata": {
    "ExecuteTime": {
     "end_time": "2021-05-25T20:49:07.520592Z",
     "start_time": "2021-05-25T20:49:06.706766Z"
    }
   },
   "outputs": [
    {
     "data": {
      "application/vnd.jupyter.widget-view+json": {
       "model_id": "f59862ced8eb411ab6609a2721d68156",
       "version_major": 2,
       "version_minor": 0
      },
      "text/plain": [
       "Plot(antialias=3, axes=['x', 'y', 'z'], axes_helper=1.0, background_color=16777215, camera=[0.0124362396399492…"
      ]
     },
     "metadata": {},
     "output_type": "display_data"
    }
   ],
   "source": [
    "template_verts = deformed_mesh.vertices[inc_verts]\n",
    "dists, idxs = target_mesh.kdtree.query(template_verts)\n",
    "\n",
    "deformed_normals = deformed_mesh.vertex_normals\n",
    "target_normals = target_mesh.vertex_normals\n",
    "arrows = vedo.Arrows(template_verts, target_mesh.vertices[idxs])\n",
    "vedo.show(\n",
    "    tmesh(deformed_mesh),\n",
    "    tmesh(target_mesh), \n",
    "    arrows\n",
    ")"
   ]
  },
  {
   "cell_type": "markdown",
   "id": "rubber-hepatitis",
   "metadata": {},
   "source": [
    "## Notes\n",
    "\n",
    "- Hips seem to be particularly difficult to fit. Don't know why. \n",
    "- The crotches don't overlap perfectly, but shouhld be good enough to use nearest neighbor to find the landmark vertex on target. "
   ]
  },
  {
   "cell_type": "markdown",
   "id": "exact-silver",
   "metadata": {},
   "source": [
    "# Test on multiple scans"
   ]
  },
  {
   "cell_type": "code",
   "execution_count": 20,
   "id": "unlike-guarantee",
   "metadata": {
    "ExecuteTime": {
     "end_time": "2021-05-25T20:49:20.496640Z",
     "start_time": "2021-05-25T20:49:07.522375Z"
    },
    "scrolled": true
   },
   "outputs": [
    {
     "name": "stderr",
     "output_type": "stream",
     "text": [
      "\u001b[34m\u001b[1mwandb\u001b[0m: Currently logged in as: \u001b[33mhellounspun\u001b[0m (use `wandb login --relogin` to force relogin)\n",
      "\u001b[34m\u001b[1mwandb\u001b[0m: wandb version 0.10.30 is available!  To upgrade, please run:\n",
      "\u001b[34m\u001b[1mwandb\u001b[0m:  $ pip install wandb --upgrade\n"
     ]
    },
    {
     "data": {
      "text/html": [
       "\n",
       "                Tracking run with wandb version 0.10.19<br/>\n",
       "                Syncing run <strong style=\"color:#cdcd00\">wise-valley-1</strong> to <a href=\"https://wandb.ai\" target=\"_blank\">Weights & Biases</a> <a href=\"https://docs.wandb.com/integrations/jupyter.html\" target=\"_blank\">(Documentation)</a>.<br/>\n",
       "                Project page: <a href=\"https://wandb.ai/hellounspun/experiments-09-star-template-fit-landmarking\" target=\"_blank\">https://wandb.ai/hellounspun/experiments-09-star-template-fit-landmarking</a><br/>\n",
       "                Run page: <a href=\"https://wandb.ai/hellounspun/experiments-09-star-template-fit-landmarking/runs/1646m3zr\" target=\"_blank\">https://wandb.ai/hellounspun/experiments-09-star-template-fit-landmarking/runs/1646m3zr</a><br/>\n",
       "                Run data is saved locally in <code>/Users/unspun/Dev/unspun/experiments/09-star-template-fit-landmarking/wandb/run-20210525_134909-1646m3zr</code><br/><br/>\n",
       "            "
      ],
      "text/plain": [
       "<IPython.core.display.HTML object>"
      ]
     },
     "metadata": {},
     "output_type": "display_data"
    },
    {
     "name": "stderr",
     "output_type": "stream",
     "text": [
      "\u001b[34m\u001b[1mwandb\u001b[0m: Downloading large artifact pants-scans-raw:v3, 3148.08MB. 853 files... "
     ]
    },
    {
     "data": {
      "text/html": [
       "<br/>Waiting for W&B process to finish, PID 31468<br/>Program ended successfully."
      ],
      "text/plain": [
       "<IPython.core.display.HTML object>"
      ]
     },
     "metadata": {},
     "output_type": "display_data"
    },
    {
     "data": {
      "application/vnd.jupyter.widget-view+json": {
       "model_id": "",
       "version_major": 2,
       "version_minor": 0
      },
      "text/plain": [
       "VBox(children=(Label(value=' 0.00MB of 0.00MB uploaded (0.00MB deduped)\\r'), FloatProgress(value=1.0, max=1.0)…"
      ]
     },
     "metadata": {},
     "output_type": "display_data"
    },
    {
     "data": {
      "text/html": [
       "Find user logs for this run at: <code>/Users/unspun/Dev/unspun/experiments/09-star-template-fit-landmarking/wandb/run-20210525_134909-1646m3zr/logs/debug.log</code>"
      ],
      "text/plain": [
       "<IPython.core.display.HTML object>"
      ]
     },
     "metadata": {},
     "output_type": "display_data"
    },
    {
     "data": {
      "text/html": [
       "Find internal logs for this run at: <code>/Users/unspun/Dev/unspun/experiments/09-star-template-fit-landmarking/wandb/run-20210525_134909-1646m3zr/logs/debug-internal.log</code>"
      ],
      "text/plain": [
       "<IPython.core.display.HTML object>"
      ]
     },
     "metadata": {},
     "output_type": "display_data"
    },
    {
     "data": {
      "text/html": [
       "Synced 5 W&B file(s), 0 media file(s), 0 artifact file(s) and 0 other file(s)"
      ],
      "text/plain": [
       "<IPython.core.display.HTML object>"
      ]
     },
     "metadata": {},
     "output_type": "display_data"
    },
    {
     "data": {
      "text/html": [
       "\n",
       "                    <br/>Synced <strong style=\"color:#cdcd00\">wise-valley-1</strong>: <a href=\"https://wandb.ai/hellounspun/experiments-09-star-template-fit-landmarking/runs/1646m3zr\" target=\"_blank\">https://wandb.ai/hellounspun/experiments-09-star-template-fit-landmarking/runs/1646m3zr</a><br/>\n",
       "                "
      ],
      "text/plain": [
       "<IPython.core.display.HTML object>"
      ]
     },
     "metadata": {},
     "output_type": "display_data"
    }
   ],
   "source": [
    "import wandb \n",
    "\n",
    "run = wandb.init()\n",
    "artifact = run.use_artifact('hellounspun/iris-ml/pants-scans-raw:v3', type='dataset')\n",
    "artifact_dir = artifact.download()\n",
    "run.finish()"
   ]
  },
  {
   "cell_type": "code",
   "execution_count": 21,
   "id": "romance-contemporary",
   "metadata": {
    "ExecuteTime": {
     "end_time": "2021-05-25T20:49:20.866467Z",
     "start_time": "2021-05-25T20:49:20.499443Z"
    }
   },
   "outputs": [],
   "source": [
    "from pathlib import Path\n",
    "import pandas as pd\n",
    "\n",
    "data_dir = Path(artifact_dir)\n",
    "tqdm.pandas()"
   ]
  },
  {
   "cell_type": "code",
   "execution_count": 94,
   "id": "gentle-christopher",
   "metadata": {
    "ExecuteTime": {
     "end_time": "2021-05-25T23:58:16.418031Z",
     "start_time": "2021-05-25T23:58:11.280291Z"
    }
   },
   "outputs": [
    {
     "name": "stderr",
     "output_type": "stream",
     "text": [
      "100%|██████████| 10/10 [00:05<00:00,  2.00it/s]\n"
     ]
    }
   ],
   "source": [
    "scans_df = pd.read_pickle(data_dir/'scans_df.pkl')\n",
    "tg3d_df = scans_df.loc[\n",
    "    (scans_df['metadata'].map(lambda d: d['scan_entry']['source'])=='tg3d')\n",
    "    & (scans_df['metadata'].map(lambda d: d['scan_entry']['customerGender'])==2)\n",
    "].set_index('scan_uuid')\n",
    "tg3d_df = tg3d_df.sample(10, random_state=42)\n",
    "tg3d_df['mesh'] = tg3d_df['scan'].progress_map(lambda p: trimesh.load_mesh(data_dir/p))"
   ]
  },
  {
   "cell_type": "code",
   "execution_count": 95,
   "id": "based-tender",
   "metadata": {
    "ExecuteTime": {
     "end_time": "2021-05-25T23:58:16.466651Z",
     "start_time": "2021-05-25T23:58:16.420295Z"
    }
   },
   "outputs": [],
   "source": [
    "def calc_loss(forwarded_v, target_mesh, exc_verts=[], min_comp_cosine=0, landmarks=[], E_weights=(1, 1)):\n",
    "    E_data = data_loss(forwarded_v, target_mesh, exc_verts, min_comp_cosine)\n",
    "    E_lm = landmark_loss(forwarded_v, landmarks)\n",
    "    \n",
    "    E_total = E_weights[0]*E_data + E_weights[1]*E_lm\n",
    "    \n",
    "    return E_total\n",
    "\n",
    "def data_loss(deformed_v : torch.Tensor, target_mesh, exc_verts, min_comp_cosine):\n",
    "    deformed_mesh = trimesh.Trimesh(deformed_v.detach().numpy(), star.f, process=False)\n",
    "    dists, idxs = target_mesh.kdtree.query(deformed_mesh.vertices)\n",
    "    deformed_normals = deformed_mesh.vertex_normals\n",
    "    target_normals = target_mesh.vertex_normals\n",
    "    incompatible = (target_normals[idxs]*deformed_normals).sum(axis=1) < min_comp_cosine\n",
    "    weights = np.ones(template_mesh.vertices.shape[0])\n",
    "    weights[incompatible] = 0\n",
    "    weights[exc_verts] = 0\n",
    "\n",
    "    dist_tensor = (((deformed_v-torch.tensor(target_mesh.vertices[idxs]))*torch.tensor(weights[:, None]))**2).sum() / weights.sum()\n",
    "    return dist_tensor\n",
    "\n",
    "def landmark_loss(deformed_v : torch.Tensor, landmarks):\n",
    "    loss = torch.tensor(0.)\n",
    "    for template_idx, target in landmarks:\n",
    "        loss += ((deformed_v[template_idx] - torch.tensor(target))**2).sum()\n",
    "    loss /= len(landmarks)\n",
    "    return loss"
   ]
  },
  {
   "cell_type": "code",
   "execution_count": 96,
   "id": "mechanical-neighborhood",
   "metadata": {
    "ExecuteTime": {
     "end_time": "2021-05-25T23:58:16.513905Z",
     "start_time": "2021-05-25T23:58:16.469264Z"
    }
   },
   "outputs": [],
   "source": [
    "from torch.optim import LBFGS, SGD\n",
    "\n",
    "def find_heels(target_mesh):\n",
    "    # get target heels\n",
    "    v = target_mesh.vertices\n",
    "    mid_x = (v[:, 1].max()+v[:, 1].min())/2\n",
    "    left = v[v[:, 1] > mid_x]\n",
    "    left_heel = left[(left[:, 0]+left[:, 2]).argmin()]\n",
    "    right = v[v[:, 1] < mid_x]\n",
    "    right_heel = right[(right[:, 0]+right[:, 2]).argmin()]\n",
    "    \n",
    "    return left_heel, right_heel\n",
    "\n",
    "def condition_target(target_mesh):\n",
    "    new_mesh = target_mesh.copy()\n",
    "    new_mesh.vertices = np.roll(new_mesh.vertices, -1, axis=1) / 1000\n",
    "    new_mesh.vertices += -new_mesh.centroid + A_pose_template_mesh.centroid\n",
    "    return new_mesh\n",
    "\n",
    "def convert_star_to_unspun(template_v):\n",
    "    new_v = torch.roll(template_v, 1, 1) * 1000\n",
    "    return new_v"
   ]
  },
  {
   "cell_type": "code",
   "execution_count": 31,
   "id": "unusual-sixth",
   "metadata": {
    "ExecuteTime": {
     "end_time": "2021-05-25T23:58:16.566695Z",
     "start_time": "2021-05-25T23:58:16.516603Z"
    }
   },
   "outputs": [],
   "source": [
    "template_left_heel_idx, template_right_heel_idx = 3426, 6825\n",
    "def fit_template(target_mesh):\n",
    "    poses = torch.tensor(A_pose_np, dtype=torch.float, requires_grad=True)\n",
    "    betas = torch.tensor(np.zeros((batch_size, num_betas)), dtype=torch.float, requires_grad=True)\n",
    "    zero_trans = torch.tensor(np.zeros((batch_size,3)), dtype=torch.float, requires_grad=False)\n",
    "    starting_mesh = trimesh.Trimesh(star.forward(poses, betas, zero_trans)[0].detach(), star.f)\n",
    "    \n",
    "    # calculate initial trans\n",
    "    init_trans_np = -starting_mesh.centroid + np.roll(target_mesh.centroid, -1)/1000\n",
    "    trans = torch.tensor(init_trans_np[None, :], dtype=torch.float, requires_grad=True)\n",
    "\n",
    "    global errors\n",
    "    errors = []\n",
    "\n",
    "    optimizer = LBFGS([poses, betas, trans], lr=1)\n",
    "\n",
    "    target_left_heel, target_right_heel = find_heels(target_mesh)\n",
    "    landmarks = [(template_left_heel_idx, target_left_heel), (template_right_heel_idx, target_right_heel)]\n",
    "    def simple_loss(forwarded_v, min_comp_cosine=0, E_weights=(1, 1)):\n",
    "        return calc_loss(forwarded_v, target_mesh, exc_verts, min_comp_cosine, landmarks, E_weights)\n",
    "\n",
    "    def constrain_poses(poses):\n",
    "        with torch.no_grad():\n",
    "            poses.grad[0, 2] = 0\n",
    "            poses.grad[0, 3*12+1] = 0\n",
    "            poses.grad[0, 3*12+2] = 0\n",
    "            poses.grad[0, 3*15+1] = 0\n",
    "            poses.grad[0, 3*15+2] = 0\n",
    "    def constrain_shapes(betas):\n",
    "        with torch.no_grad():\n",
    "            betas.grad[:] = 0\n",
    "\n",
    "    def closure():\n",
    "        optimizer.zero_grad()\n",
    "        forwarded_v = star.forward(poses, betas, trans)[0]\n",
    "        converted_v = convert_star_to_unspun(forwarded_v)\n",
    "        loss = simple_loss(converted_v, min_comp_cosine=0, E_weights=(10, 1))\n",
    "        loss.backward()\n",
    "        constrain_poses(poses)\n",
    "        return loss\n",
    "    for i in range(20):\n",
    "        loss = optimizer.step(closure)\n",
    "        errors.append(loss.detach().numpy())\n",
    "    #     def closure2():\n",
    "    #         optimizer.zero_grad()\n",
    "    #         loss = simple_loss(poses, betas, trans, min_comp_cosine=0, E_weights=(10, 0))\n",
    "    #         loss.backward()\n",
    "    #         constrain_poses(poses)\n",
    "    #         return loss\n",
    "    #     for i in tqdm(range(20)):\n",
    "    #         loss = optimizer.step(closure2)\n",
    "    #         errors.append(loss.detach().numpy())\n",
    "    output = star.forward(poses, betas, trans)\n",
    "    new_v = convert_star_to_unspun(output[0])\n",
    "    deformed_mesh = trimesh.Trimesh(new_v.detach().numpy(), star.f, process=False)\n",
    "\n",
    "    return deformed_mesh, errors, (poses.detach(), betas.detach(), trans.detach()), output"
   ]
  },
  {
   "cell_type": "code",
   "execution_count": 32,
   "id": "virtual-canada",
   "metadata": {
    "ExecuteTime": {
     "end_time": "2021-05-26T00:02:39.469890Z",
     "start_time": "2021-05-25T23:58:16.568862Z"
    },
    "scrolled": false
   },
   "outputs": [
    {
     "ename": "ModuleNotFoundError",
     "evalue": "No module named 'igl'",
     "output_type": "error",
     "traceback": [
      "\u001b[1;31m---------------------------------------------------------------------------\u001b[0m",
      "\u001b[1;31mModuleNotFoundError\u001b[0m                       Traceback (most recent call last)",
      "\u001b[1;32m~\\AppData\\Local\\Temp/ipykernel_17100/553262990.py\u001b[0m in \u001b[0;36m<module>\u001b[1;34m\u001b[0m\n\u001b[0;32m      1\u001b[0m \u001b[1;31m# batch fit all sampled scans\u001b[0m\u001b[1;33m\u001b[0m\u001b[1;33m\u001b[0m\u001b[1;33m\u001b[0m\u001b[0m\n\u001b[0;32m      2\u001b[0m \u001b[1;31m# takes a long time\u001b[0m\u001b[1;33m\u001b[0m\u001b[1;33m\u001b[0m\u001b[1;33m\u001b[0m\u001b[0m\n\u001b[1;32m----> 3\u001b[1;33m \u001b[1;32mimport\u001b[0m \u001b[0migl\u001b[0m\u001b[1;33m\u001b[0m\u001b[1;33m\u001b[0m\u001b[0m\n\u001b[0m\u001b[0;32m      4\u001b[0m \u001b[0mfitting_results\u001b[0m \u001b[1;33m=\u001b[0m \u001b[1;33m[\u001b[0m\u001b[1;33m]\u001b[0m \u001b[1;31m# decimated mesh, fitted mesh, errors hist, star params, star output\u001b[0m\u001b[1;33m\u001b[0m\u001b[1;33m\u001b[0m\u001b[0m\n\u001b[0;32m      5\u001b[0m \u001b[1;32mfor\u001b[0m \u001b[0mi\u001b[0m\u001b[1;33m,\u001b[0m \u001b[0mrow\u001b[0m \u001b[1;32min\u001b[0m \u001b[0mtqdm\u001b[0m\u001b[1;33m(\u001b[0m\u001b[0mtg3d_df\u001b[0m\u001b[1;33m.\u001b[0m\u001b[0miterrows\u001b[0m\u001b[1;33m(\u001b[0m\u001b[1;33m)\u001b[0m\u001b[1;33m,\u001b[0m \u001b[0mtotal\u001b[0m\u001b[1;33m=\u001b[0m\u001b[0mtg3d_df\u001b[0m\u001b[1;33m.\u001b[0m\u001b[0mshape\u001b[0m\u001b[1;33m[\u001b[0m\u001b[1;36m0\u001b[0m\u001b[1;33m]\u001b[0m\u001b[1;33m)\u001b[0m\u001b[1;33m:\u001b[0m\u001b[1;33m\u001b[0m\u001b[1;33m\u001b[0m\u001b[0m\n",
      "\u001b[1;31mModuleNotFoundError\u001b[0m: No module named 'igl'"
     ]
    }
   ],
   "source": [
    "# batch fit all sampled scans\n",
    "# takes a long time\n",
    "import igl\n",
    "fitting_results = [] # decimated mesh, fitted mesh, errors hist, star params, star output\n",
    "for i, row in tqdm(tg3d_df.iterrows(), total=tg3d_df.shape[0]):\n",
    "    target_mesh = row['mesh']\n",
    "    success, decimated_v, decimated_f, _, _ = igl.decimate(target_mesh.vertices, target_mesh.faces, 15000)\n",
    "    decimated_mesh = trimesh.Trimesh(decimated_v, decimated_f)\n",
    "    fitted_mesh, errors, fitted_star_params, star_output = fit_template(target_mesh)\n",
    "    fitting_results.append((decimated_mesh, fitted_mesh, errors, fitted_star_params, star_output))"
   ]
  },
  {
   "cell_type": "code",
   "execution_count": 99,
   "id": "boxed-nurse",
   "metadata": {
    "ExecuteTime": {
     "end_time": "2021-05-26T00:02:39.767926Z",
     "start_time": "2021-05-26T00:02:39.472635Z"
    }
   },
   "outputs": [
    {
     "data": {
      "application/vnd.jupyter.widget-view+json": {
       "model_id": "8c3f82b2806f4b9684710d8dd16ec9af",
       "version_major": 2,
       "version_minor": 0
      },
      "text/plain": [
       "Plot(antialias=3, axes=['x', 'y', 'z'], axes_helper=1.0, background_color=16777215, camera=[983.224231268868, …"
      ]
     },
     "metadata": {},
     "output_type": "display_data"
    }
   ],
   "source": [
    "i_to_show = 0\n",
    "vedo.show(\n",
    "    tmesh(fitting_results[i_to_show][0]), \n",
    "    tmesh(fitting_results[i_to_show][1]),\n",
    "    vedo.Points(list(tg3d_df['landmarks'].iloc[i_to_show]['surface'].values()), c='r'),\n",
    "    vedo.Points(list(tg3d_df['landmarks'].iloc[i_to_show]['joint'].values()), c='b'),\n",
    "    vedo.Points(convert_star_to_unspun(fitting_results[i_to_show][4].J_transformed[0]).detach().numpy(), c='y'),\n",
    "    viewup='z'\n",
    ")"
   ]
  },
  {
   "cell_type": "markdown",
   "id": "specified-kingdom",
   "metadata": {},
   "source": [
    "## Landmarking"
   ]
  },
  {
   "cell_type": "code",
   "execution_count": 100,
   "id": "crucial-advancement",
   "metadata": {
    "ExecuteTime": {
     "end_time": "2021-05-26T00:02:39.887175Z",
     "start_time": "2021-05-26T00:02:39.770652Z"
    }
   },
   "outputs": [],
   "source": [
    "with open('template_landmark_idxs.json') as fin:\n",
    "    template_lm_idxs = json.load(fin)\n",
    "    \"\"\n",
    "names_to_use = ['navel', 'crotch', 'front_right_knee', 'front_left_knee', 'out_right_ankle', 'out_left_ankle']\n",
    "idxs_to_use = [template_lm_idxs[n] for n in names_to_use]\n",
    "extracted_lm = []\n",
    "for i in range(len(fitting_results)):\n",
    "    extracted_lm.append([])\n",
    "    for lm_i in idxs_to_use:\n",
    "        template_lm_p = fitting_results[i][1].vertices[lm_i]\n",
    "        found_idx = tg3d_df.iloc[i]['mesh'].kdtree.query(template_lm_p)[1]\n",
    "        extracted_lm[-1].append(tg3d_df.iloc[i]['mesh'].vertices[found_idx])"
   ]
  },
  {
   "cell_type": "code",
   "execution_count": 113,
   "id": "hungarian-landscape",
   "metadata": {
    "ExecuteTime": {
     "end_time": "2021-05-26T00:06:42.729125Z",
     "start_time": "2021-05-26T00:06:42.044424Z"
    }
   },
   "outputs": [
    {
     "data": {
      "application/vnd.jupyter.widget-view+json": {
       "model_id": "628794385e5d43aab135abf1b6cc5e71",
       "version_major": 2,
       "version_minor": 0
      },
      "text/plain": [
       "Plot(antialias=3, axes=['x', 'y', 'z'], axes_helper=1.0, background_color=16777215, camera=[1018.6267177597508…"
      ]
     },
     "metadata": {},
     "output_type": "display_data"
    }
   ],
   "source": [
    "i_to_show = 9\n",
    "vedo.show(\n",
    "    tmesh(tg3d_df['mesh'].iloc[i_to_show], 'grey', 0.5), \n",
    "    tmesh(fitting_results[i_to_show][1], 'green', 0.2), \n",
    "    vedo.Points(list(tg3d_df['landmarks'].iloc[i_to_show]['surface'].values()), r=12, c='r'),\n",
    "    vedo.Points(extracted_lm[i_to_show], r=10, c='y'),\n",
    "    viewup='z'\n",
    ")"
   ]
  },
  {
   "cell_type": "markdown",
   "id": "framed-token",
   "metadata": {},
   "source": [
    "red = original landmarks\n",
    "\n",
    "yellow = fitted landmarks"
   ]
  },
  {
   "cell_type": "markdown",
   "id": "welcome-enforcement",
   "metadata": {},
   "source": [
    "## Quantitative evaluation\n",
    "\n",
    "Start with just crotch"
   ]
  },
  {
   "cell_type": "code",
   "execution_count": 61,
   "id": "encouraging-worst",
   "metadata": {
    "ExecuteTime": {
     "end_time": "2021-05-25T23:48:25.761104Z",
     "start_time": "2021-05-25T23:48:25.701176Z"
    }
   },
   "outputs": [
    {
     "data": {
      "text/plain": [
       "array([ 17.968096,   7.603165, 690.      ])"
      ]
     },
     "execution_count": 61,
     "metadata": {},
     "output_type": "execute_result"
    }
   ],
   "source": [
    "tg3d_df['landmarks'].iloc[i_to_show]['surface']['crotch_point']"
   ]
  },
  {
   "cell_type": "code",
   "execution_count": 62,
   "id": "medieval-retro",
   "metadata": {
    "ExecuteTime": {
     "end_time": "2021-05-25T23:48:25.960384Z",
     "start_time": "2021-05-25T23:48:25.762891Z"
    }
   },
   "outputs": [
    {
     "data": {
      "image/png": "[encoded data removed]",
      "text/plain": [
       "<Figure size 432x288 with 1 Axes>"
      ]
     },
     "metadata": {
      "needs_background": "light"
     },
     "output_type": "display_data"
    },
    {
     "name": "stdout",
     "output_type": "stream",
     "text": [
      "mean crotch error (mm): 26.83696668530059\n"
     ]
    }
   ],
   "source": [
    "crotch_errors = []\n",
    "for fitted_lm, true_lm in zip(extracted_lm, tg3d_df['landmarks']):\n",
    "    true_crotch = true_lm['surface']['crotch_point']\n",
    "    fitted_crotch = fitted_lm[1]\n",
    "    crotch_errors.append(np.linalg.norm(true_crotch-fitted_crotch))\n",
    "plt.hist(crotch_errors, bins=20)\n",
    "plt.title('distribution of crotch errors (mm)')\n",
    "plt.show()\n",
    "print('mean crotch error (mm):', np.mean(crotch_errors))"
   ]
  },
  {
   "cell_type": "code",
   "execution_count": 63,
   "id": "discrete-roommate",
   "metadata": {
    "ExecuteTime": {
     "end_time": "2021-05-25T23:48:26.003744Z",
     "start_time": "2021-05-25T23:48:25.962525Z"
    }
   },
   "outputs": [
    {
     "data": {
      "text/plain": [
       "array([ 8, 19, 11, 12,  6,  0, 10, 14,  9,  3,  4,  7, 15, 18,  2, 17,  5,\n",
       "        1, 16, 13])"
      ]
     },
     "execution_count": 63,
     "metadata": {},
     "output_type": "execute_result"
    }
   ],
   "source": [
    "np.argsort(crotch_errors)"
   ]
  },
  {
   "cell_type": "code",
   "execution_count": null,
   "id": "crude-exercise",
   "metadata": {},
   "outputs": [],
   "source": []
  }
 ],
 "metadata": {
  "kernelspec": {
   "display_name": "Python 3 (ipykernel)",
   "language": "python",
   "name": "python3"
  },
  "language_info": {
   "codemirror_mode": {
    "name": "ipython",
    "version": 3
   },
   "file_extension": ".py",
   "mimetype": "text/x-python",
   "name": "python",
   "nbconvert_exporter": "python",
   "pygments_lexer": "ipython3",
   "version": "3.7.11"
  }
 },
 "nbformat": 4,
 "nbformat_minor": 5
}

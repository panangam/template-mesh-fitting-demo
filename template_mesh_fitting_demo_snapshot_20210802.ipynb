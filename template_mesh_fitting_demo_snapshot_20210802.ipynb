version https://git-lfs.github.com/spec/v1
oid sha256:5eecdb8b754cb717976357a711ef369238402ec7680cb5f074e3ca9226157c95
size 148846478
